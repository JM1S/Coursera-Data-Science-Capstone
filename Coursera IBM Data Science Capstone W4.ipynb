{
    "nbformat_minor": 1, 
    "cells": [
        {
            "source": "# Coursera IBM Data Science Capstone Project - Paris Pastries\n\n### Description of the problem / Discussion of the background\n\nThe objective of this project is determine where to open a new pastry shop in Paris (because I am a pastry fan :-)).<br>\nThe idea is first to understand the situation in Paris, in terms of numbers of pastry shops, their location and then to understand the criteria determining their distribution per neighborhood.\n\n\n### Description of the data & how it will be used\n\nRegarding the data that will be used :\n- The website \"www.data.gouv.fr\" will provide data about the \"quartiers\" (i.e. neighborhoods) & \"arrondissements\" (i.e. groups of neighborhoods) of Paris, especially their geographical coordinates that will be used to find out the venues.\n- Wikipedia will provide some information about neighborhoods' demographic data (population, density).\n- A website \"https://www.salairemoyen.com/departement-75-Paris.html\" will provide some\"arrondissements\"' economical data (average monthly revenue). \n- Foursquare will provide information about the pastry shops.\n\nForeseen steps:\n- The 1st step will be to build a dataframe of the neighborhoods with the data collected from the different sources of data.\n- The 2nd step will be to build a dataframe of the pastry shops.\n- The 3rd step will be to enhance the neighborhoods dataframe with the pastry shops information.\n- Then different analysis will be performed to understand if there are criteria enabling to determine the distribution of pastry shops per neighborhoods.", 
            "cell_type": "markdown", 
            "attachments": {}, 
            "metadata": {}
        }
    ], 
    "metadata": {
        "kernelspec": {
            "display_name": "Python 3.6", 
            "name": "python3", 
            "language": "python"
        }, 
        "language_info": {
            "mimetype": "text/x-python", 
            "nbconvert_exporter": "python", 
            "version": "3.6.8", 
            "name": "python", 
            "file_extension": ".py", 
            "pygments_lexer": "ipython3", 
            "codemirror_mode": {
                "version": 3, 
                "name": "ipython"
            }
        }
    }, 
    "nbformat": 4
}