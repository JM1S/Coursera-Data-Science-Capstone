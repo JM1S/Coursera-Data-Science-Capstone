{
    "nbformat_minor": 1, 
    "cells": [
        {
            "source": "Import of the relevant libraries", 
            "cell_type": "markdown", 
            "metadata": {}
        }, 
        {
            "source": "import pandas as pd\nimport requests\nfrom bs4 import BeautifulSoup", 
            "cell_type": "code", 
            "execution_count": 1, 
            "outputs": [], 
            "metadata": {}
        }, 
        {
            "source": "Use of BeautifulSoup to retrieve all tables of the Wikipedia page", 
            "cell_type": "markdown", 
            "metadata": {}
        }, 
        {
            "source": "r= requests.get(\"https://en.wikipedia.org/wiki/List_of_postal_codes_of_Canada:_M\")\nsoup = BeautifulSoup(r.text, 'html.parser')\ntables = [\n    [\n        [td.get_text(strip=True) for td in tr.find_all('td')] \n        for tr in table.find_all('tr')\n    ] \n    for table in soup.find_all('table')\n]", 
            "cell_type": "code", 
            "execution_count": 2, 
            "outputs": [], 
            "metadata": {}
        }, 
        {
            "source": "1st table corresponding to the required table is selected", 
            "cell_type": "markdown", 
            "metadata": {}
        }, 
        {
            "source": "requiredtable = tables[0]", 
            "cell_type": "code", 
            "execution_count": 3, 
            "outputs": [], 
            "metadata": {}
        }, 
        {
            "source": "Table transformed into a pandas dataframe with renaming of columns and deletion of the 1st blank row", 
            "cell_type": "markdown", 
            "metadata": {}
        }, 
        {
            "source": "df = pd.DataFrame(requiredtable, columns=['Postcode', 'Borough', 'Neighborhood'])\ndf.drop(df.index[0],inplace=True)", 
            "cell_type": "code", 
            "execution_count": 4, 
            "outputs": [], 
            "metadata": {}
        }, 
        {
            "source": "Filtering of the dataframe to ignore cells with a borough that is Not assigned", 
            "cell_type": "markdown", 
            "metadata": {}
        }, 
        {
            "source": "df = df[df['Borough'] != 'Not assigned']", 
            "cell_type": "code", 
            "execution_count": 5, 
            "outputs": [], 
            "metadata": {
                "scrolled": true
            }
        }, 
        {
            "source": "Combining Neighborhoods into one row that have the same Postcode & Borough ", 
            "cell_type": "markdown", 
            "metadata": {}
        }, 
        {
            "source": "df = df.sort_values(['Postcode','Borough','Neighborhood'])\ndf = df.groupby(['Postcode','Borough'])['Neighborhood'].apply(', '.join).reset_index()", 
            "cell_type": "code", 
            "execution_count": 6, 
            "outputs": [], 
            "metadata": {}
        }, 
        {
            "source": "If a cell has a borough but a \"Not assigned\" neighborhood, then the neighborhood will be the same as the borough.", 
            "cell_type": "markdown", 
            "metadata": {}
        }, 
        {
            "source": "df.Neighborhood.replace(\"Not assigned\",df.Borough,inplace=True)", 
            "cell_type": "code", 
            "execution_count": 7, 
            "outputs": [], 
            "metadata": {}
        }, 
        {
            "source": "Number of rows of the final dataframe", 
            "cell_type": "markdown", 
            "metadata": {}
        }, 
        {
            "source": "df.shape", 
            "cell_type": "code", 
            "execution_count": 8, 
            "outputs": [
                {
                    "output_type": "execute_result", 
                    "metadata": {}, 
                    "data": {
                        "text/plain": "(103, 3)"
                    }, 
                    "execution_count": 8
                }
            ], 
            "metadata": {}
        }
    ], 
    "nbformat": 4, 
    "metadata": {
        "kernelspec": {
            "display_name": "Python 3.6", 
            "name": "python3", 
            "language": "python"
        }, 
        "language_info": {
            "mimetype": "text/x-python", 
            "nbconvert_exporter": "python", 
            "version": "3.6.8", 
            "name": "python", 
            "pygments_lexer": "ipython3", 
            "file_extension": ".py", 
            "codemirror_mode": {
                "version": 3, 
                "name": "ipython"
            }
        }
    }
}